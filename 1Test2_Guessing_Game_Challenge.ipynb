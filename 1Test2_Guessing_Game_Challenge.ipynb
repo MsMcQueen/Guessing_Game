{
 "cells": [
  {
   "cell_type": "code",
   "execution_count": 1,
   "metadata": {},
   "outputs": [],
   "source": [
    "import random \n",
    "num = random.randint(1,100)"
   ]
  },
  {
   "cell_type": "code",
   "execution_count": 2,
   "metadata": {},
   "outputs": [
    {
     "name": "stdout",
     "output_type": "stream",
     "text": [
      "WELCOME TO GUESS ME!\n",
      "I'm thinking of a number between 1 and 100\n",
      "If your guess is more than 10 away from my number, I'll say you're COLD\n",
      "If your guess is within 10 of my number, I'll say you're WARM\n",
      "If your guess is farther than you most recent guess, I'll say you're getting COLDER\n",
      "If your guess is closer than you most recent guess, I'll say you're getting WARMER\n",
      "LET'S PLAY!\n"
     ]
    }
   ],
   "source": [
    "print(\"WELCOME TO GUESS ME!\")\n",
    "print(\"I'm thinking of a number between 1 and 100\")\n",
    "print(\"If your guess is more than 10 away from my number, I'll say you're COLD\")\n",
    "print(\"If your guess is within 10 of my number, I'll say you're WARM\")\n",
    "print(\"If your guess is farther than you most recent guess, I'll say you're getting COLDER\")\n",
    "print(\"If your guess is closer than you most recent guess, I'll say you're getting WARMER\")\n",
    "print(\"LET'S PLAY!\")"
   ]
  },
  {
   "cell_type": "code",
   "execution_count": 3,
   "metadata": {},
   "outputs": [],
   "source": [
    "guesses = [0]"
   ]
  },
  {
   "cell_type": "code",
   "execution_count": 4,
   "metadata": {},
   "outputs": [
    {
     "name": "stdout",
     "output_type": "stream",
     "text": [
      "I'm thinking of a number between 1 and 100.\n",
      " What is your guess? 500\n",
      "\n",
      "500 IS OUT OF BOUNDS! Please try again:\n",
      "\n",
      "I'm thinking of a number between 1 and 100.\n",
      " What is your guess? 50\n"
     ]
    }
   ],
   "source": [
    "while True:\n",
    "    guess = int(input(\"I'm thinking of a number between 1 and 100.\\n What is your guess? \"))\n",
    "    \n",
    "    if guess <1 or guess >100:\n",
    "        print(f'\\n{guess} IS OUT OF BOUNDS! Please try again:\\n')\n",
    "        continue\n",
    "        \n",
    "    break"
   ]
  },
  {
   "cell_type": "code",
   "execution_count": 5,
   "metadata": {},
   "outputs": [
    {
     "name": "stdout",
     "output_type": "stream",
     "text": [
      "I'm thinking of a number between 1 and 100.\n",
      " What is your guess? 50\n",
      "COLD!\n",
      "I'm thinking of a number between 1 and 100.\n",
      " What is your guess? 75\n",
      "WARMER!\n",
      "I'm thinking of a number between 1 and 100.\n",
      " What is your guess? 85\n",
      "COLDER!\n",
      "I'm thinking of a number between 1 and 100.\n",
      " What is your guess? 81\n",
      "WARMER!\n",
      "I'm thinking of a number between 1 and 100.\n",
      " What is your guess? 78\n",
      "WARMER!\n",
      "I'm thinking of a number between 1 and 100.\n",
      " What is your guess? 77\n",
      "WARMER!\n",
      "I'm thinking of a number between 1 and 100.\n",
      " What is your guess? 76\n",
      "WARMER!\n",
      "I'm thinking of a number between 1 and 100.\n",
      " What is your guess? 70\n",
      "COLDER!\n",
      "I'm thinking of a number between 1 and 100.\n",
      " What is your guess? 73\n",
      "WARMER!\n",
      "I'm thinking of a number between 1 and 100.\n",
      " What is your guess? 71\n",
      "COLDER!\n",
      "I'm thinking of a number between 1 and 100.\n",
      " What is your guess? 74\n",
      "CONGRATULATIONS YOU GUESSED IT IN ONLY 11 GUESSES!\n"
     ]
    }
   ],
   "source": [
    "while True:\n",
    "    \n",
    "    guess = int(input(\"I'm thinking of a number between 1 and 100.\\n What is your guess? \"))\n",
    "    \n",
    "    if guess <1 or guess >100:\n",
    "        print(f'\\n{guess} IS OUT OF BOUNDS! Please try again:\\n')\n",
    "        continue\n",
    "        \n",
    "    if guess == num:\n",
    "        print(f'CONGRATULATIONS YOU GUESSED IT IN ONLY {len(guesses)} GUESSES!')\n",
    "        break\n",
    "              \n",
    "    if guess != num: guesses.append(guess)\n",
    "              \n",
    "    if guesses[-2]:\n",
    "        if abs(num-guess) < abs(num-guesses[-2]):\n",
    "              print('WARMER!')\n",
    "        else: \n",
    "              print('COLDER!')\n",
    "              \n",
    "    else:\n",
    "        if abs(num-guess) <= 10:\n",
    "              print('WARM!')\n",
    "        else:\n",
    "              print('COLD!')"
   ]
  },
  {
   "cell_type": "code",
   "execution_count": null,
   "metadata": {},
   "outputs": [],
   "source": []
  }
 ],
 "metadata": {
  "kernelspec": {
   "display_name": "Python 3",
   "language": "python",
   "name": "python3"
  },
  "language_info": {
   "codemirror_mode": {
    "name": "ipython",
    "version": 3
   },
   "file_extension": ".py",
   "mimetype": "text/x-python",
   "name": "python",
   "nbconvert_exporter": "python",
   "pygments_lexer": "ipython3",
   "version": "3.7.6"
  }
 },
 "nbformat": 4,
 "nbformat_minor": 4
}
